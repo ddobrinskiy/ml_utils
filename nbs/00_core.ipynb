{
 "cells": [
  {
   "cell_type": "code",
   "execution_count": null,
   "metadata": {},
   "outputs": [],
   "source": [
    "# default_exp core"
   ]
  },
  {
   "cell_type": "markdown",
   "metadata": {},
   "source": [
    "# module name here\n",
    "\n",
    "> API details."
   ]
  },
  {
   "cell_type": "code",
   "execution_count": null,
   "metadata": {},
   "outputs": [],
   "source": [
    "#hide\n",
    "from nbdev.showdoc import *"
   ]
  },
  {
   "cell_type": "code",
   "execution_count": 25,
   "metadata": {
    "execution": {
     "iopub.execute_input": "2020-07-28T11:45:34.654364Z",
     "iopub.status.busy": "2020-07-28T11:45:34.653976Z",
     "iopub.status.idle": "2020-07-28T11:45:34.659446Z",
     "shell.execute_reply": "2020-07-28T11:45:34.658560Z",
     "shell.execute_reply.started": "2020-07-28T11:45:34.654309Z"
    }
   },
   "outputs": [],
   "source": [
    "# export\n",
    "\n",
    "def assert_eq(a, b):\n",
    "    assert a==b, f\"{a} != {b}\""
   ]
  },
  {
   "cell_type": "code",
   "execution_count": 26,
   "metadata": {
    "execution": {
     "iopub.execute_input": "2020-07-28T11:45:35.760344Z",
     "iopub.status.busy": "2020-07-28T11:45:35.760025Z",
     "iopub.status.idle": "2020-07-28T11:45:35.767539Z",
     "shell.execute_reply": "2020-07-28T11:45:35.766821Z",
     "shell.execute_reply.started": "2020-07-28T11:45:35.760311Z"
    }
   },
   "outputs": [],
   "source": [
    "# export\n",
    "import pandas as pd \n",
    "\n",
    "def pivot_vs(df, col, n=20, min_cnt=10):\n",
    "    \"\"\"pivot the counts a column horizontally to make it more readable\n",
    "    \n",
    "    https://twitter.com/TedPetrou/status/1287769454567456768\n",
    "    \"\"\"\n",
    "    vc = df[col].value_counts()\n",
    "    vc = vc[vc >= min_cnt]\n",
    "    vcs = []\n",
    "    for i in range(0, len(vc), n):\n",
    "        cur_df = vc.iloc[i:i + n].reset_index()\n",
    "        cur_df.columns = ['value', 'count']\n",
    "        cur_df['rank'] = range(i + 1, i + len(cur_df) + 1)\n",
    "        vcs.append(cur_df)\n",
    "    return pd.concat(vcs, axis=1) "
   ]
  },
  {
   "cell_type": "code",
   "execution_count": 34,
   "metadata": {
    "execution": {
     "iopub.execute_input": "2020-07-28T11:46:21.993429Z",
     "iopub.status.busy": "2020-07-28T11:46:21.992954Z",
     "iopub.status.idle": "2020-07-28T11:46:22.145396Z",
     "shell.execute_reply": "2020-07-28T11:46:22.144542Z",
     "shell.execute_reply.started": "2020-07-28T11:46:21.993368Z"
    }
   },
   "outputs": [
    {
     "data": {
      "text/html": [
       "<div>\n",
       "<style scoped>\n",
       "    .dataframe tbody tr th:only-of-type {\n",
       "        vertical-align: middle;\n",
       "    }\n",
       "\n",
       "    .dataframe tbody tr th {\n",
       "        vertical-align: top;\n",
       "    }\n",
       "\n",
       "    .dataframe thead th {\n",
       "        text-align: right;\n",
       "    }\n",
       "</style>\n",
       "<table border=\"1\" class=\"dataframe\">\n",
       "  <thead>\n",
       "    <tr style=\"text-align: right;\">\n",
       "      <th></th>\n",
       "      <th>Job Title</th>\n",
       "      <th>Salary Estimate</th>\n",
       "      <th>Job Description</th>\n",
       "      <th>Rating</th>\n",
       "      <th>Company Name</th>\n",
       "      <th>Location</th>\n",
       "      <th>Headquarters</th>\n",
       "      <th>Size</th>\n",
       "      <th>Founded</th>\n",
       "      <th>Type of ownership</th>\n",
       "      <th>Industry</th>\n",
       "      <th>Sector</th>\n",
       "      <th>Revenue</th>\n",
       "      <th>Competitors</th>\n",
       "      <th>Easy Apply</th>\n",
       "    </tr>\n",
       "  </thead>\n",
       "  <tbody>\n",
       "    <tr>\n",
       "      <th>0</th>\n",
       "      <td>Data Analyst, Center on Immigration and Justic...</td>\n",
       "      <td>$37K-$66K (Glassdoor est.)</td>\n",
       "      <td>Are you eager to roll up your sleeves and harn...</td>\n",
       "      <td>3.2</td>\n",
       "      <td>Vera Institute of Justice\\n3.2</td>\n",
       "      <td>New York, NY</td>\n",
       "      <td>New York, NY</td>\n",
       "      <td>201 to 500 employees</td>\n",
       "      <td>1961</td>\n",
       "      <td>Nonprofit Organization</td>\n",
       "      <td>Social Assistance</td>\n",
       "      <td>Non-Profit</td>\n",
       "      <td>$100 to $500 million (USD)</td>\n",
       "      <td>-1</td>\n",
       "      <td>True</td>\n",
       "    </tr>\n",
       "    <tr>\n",
       "      <th>1</th>\n",
       "      <td>Quality Data Analyst</td>\n",
       "      <td>$37K-$66K (Glassdoor est.)</td>\n",
       "      <td>Overview\\n\\nProvides analytical and technical ...</td>\n",
       "      <td>3.8</td>\n",
       "      <td>Visiting Nurse Service of New York\\n3.8</td>\n",
       "      <td>New York, NY</td>\n",
       "      <td>New York, NY</td>\n",
       "      <td>10000+ employees</td>\n",
       "      <td>1893</td>\n",
       "      <td>Nonprofit Organization</td>\n",
       "      <td>Health Care Services &amp; Hospitals</td>\n",
       "      <td>Health Care</td>\n",
       "      <td>$2 to $5 billion (USD)</td>\n",
       "      <td>-1</td>\n",
       "      <td>-1</td>\n",
       "    </tr>\n",
       "  </tbody>\n",
       "</table>\n",
       "</div>"
      ],
      "text/plain": [
       "                                           Job Title  \\\n",
       "0  Data Analyst, Center on Immigration and Justic...   \n",
       "1                               Quality Data Analyst   \n",
       "\n",
       "              Salary Estimate  \\\n",
       "0  $37K-$66K (Glassdoor est.)   \n",
       "1  $37K-$66K (Glassdoor est.)   \n",
       "\n",
       "                                     Job Description  Rating  \\\n",
       "0  Are you eager to roll up your sleeves and harn...     3.2   \n",
       "1  Overview\\n\\nProvides analytical and technical ...     3.8   \n",
       "\n",
       "                              Company Name      Location  Headquarters  \\\n",
       "0           Vera Institute of Justice\\n3.2  New York, NY  New York, NY   \n",
       "1  Visiting Nurse Service of New York\\n3.8  New York, NY  New York, NY   \n",
       "\n",
       "                   Size  Founded       Type of ownership  \\\n",
       "0  201 to 500 employees     1961  Nonprofit Organization   \n",
       "1      10000+ employees     1893  Nonprofit Organization   \n",
       "\n",
       "                           Industry       Sector                     Revenue  \\\n",
       "0                 Social Assistance   Non-Profit  $100 to $500 million (USD)   \n",
       "1  Health Care Services & Hospitals  Health Care      $2 to $5 billion (USD)   \n",
       "\n",
       "  Competitors Easy Apply  \n",
       "0          -1       True  \n",
       "1          -1         -1  "
      ]
     },
     "execution_count": 34,
     "metadata": {},
     "output_type": "execute_result"
    }
   ],
   "source": [
    "import seaborn as sns\n",
    "\n",
    "df = pd.read_csv('../shared/DataAnalyst.csv', index_col=0)\n",
    "df.head(2)"
   ]
  },
  {
   "cell_type": "code",
   "execution_count": 37,
   "metadata": {
    "execution": {
     "iopub.execute_input": "2020-07-28T11:46:40.631105Z",
     "iopub.status.busy": "2020-07-28T11:46:40.630693Z",
     "iopub.status.idle": "2020-07-28T11:46:40.654912Z",
     "shell.execute_reply": "2020-07-28T11:46:40.654226Z",
     "shell.execute_reply.started": "2020-07-28T11:46:40.631062Z"
    }
   },
   "outputs": [
    {
     "data": {
      "text/html": [
       "<div>\n",
       "<style scoped>\n",
       "    .dataframe tbody tr th:only-of-type {\n",
       "        vertical-align: middle;\n",
       "    }\n",
       "\n",
       "    .dataframe tbody tr th {\n",
       "        vertical-align: top;\n",
       "    }\n",
       "\n",
       "    .dataframe thead th {\n",
       "        text-align: right;\n",
       "    }\n",
       "</style>\n",
       "<table border=\"1\" class=\"dataframe\">\n",
       "  <thead>\n",
       "    <tr style=\"text-align: right;\">\n",
       "      <th></th>\n",
       "      <th>value</th>\n",
       "      <th>count</th>\n",
       "      <th>rank</th>\n",
       "      <th>value</th>\n",
       "      <th>count</th>\n",
       "      <th>rank</th>\n",
       "      <th>value</th>\n",
       "      <th>count</th>\n",
       "      <th>rank</th>\n",
       "    </tr>\n",
       "  </thead>\n",
       "  <tbody>\n",
       "    <tr>\n",
       "      <th>0</th>\n",
       "      <td>Staffigo Technical Services, LLC\\n5.0</td>\n",
       "      <td>58</td>\n",
       "      <td>1</td>\n",
       "      <td>Perficient\\n3.6</td>\n",
       "      <td>6</td>\n",
       "      <td>21</td>\n",
       "      <td>Kforce Technology Staffing</td>\n",
       "      <td>5.0</td>\n",
       "      <td>41.0</td>\n",
       "    </tr>\n",
       "    <tr>\n",
       "      <th>1</th>\n",
       "      <td>Diverse Lynx\\n3.9</td>\n",
       "      <td>22</td>\n",
       "      <td>2</td>\n",
       "      <td>Infotree Service Inc\\n3.7</td>\n",
       "      <td>6</td>\n",
       "      <td>22</td>\n",
       "      <td>NaN</td>\n",
       "      <td>NaN</td>\n",
       "      <td>NaN</td>\n",
       "    </tr>\n",
       "    <tr>\n",
       "      <th>2</th>\n",
       "      <td>Kforce\\n4.1</td>\n",
       "      <td>19</td>\n",
       "      <td>3</td>\n",
       "      <td>University of Pennsylvania\\n4.3</td>\n",
       "      <td>5</td>\n",
       "      <td>23</td>\n",
       "      <td>NaN</td>\n",
       "      <td>NaN</td>\n",
       "      <td>NaN</td>\n",
       "    </tr>\n",
       "    <tr>\n",
       "      <th>3</th>\n",
       "      <td>Lorven Technologies Inc\\n4.0</td>\n",
       "      <td>19</td>\n",
       "      <td>4</td>\n",
       "      <td>SGA Inc.</td>\n",
       "      <td>5</td>\n",
       "      <td>24</td>\n",
       "      <td>NaN</td>\n",
       "      <td>NaN</td>\n",
       "      <td>NaN</td>\n",
       "    </tr>\n",
       "    <tr>\n",
       "      <th>4</th>\n",
       "      <td>Robert Half\\n3.5</td>\n",
       "      <td>14</td>\n",
       "      <td>5</td>\n",
       "      <td>Two95 International Inc.\\n4.0</td>\n",
       "      <td>5</td>\n",
       "      <td>25</td>\n",
       "      <td>NaN</td>\n",
       "      <td>NaN</td>\n",
       "      <td>NaN</td>\n",
       "    </tr>\n",
       "  </tbody>\n",
       "</table>\n",
       "</div>"
      ],
      "text/plain": [
       "                                   value  count  rank  \\\n",
       "0  Staffigo Technical Services, LLC\\n5.0     58     1   \n",
       "1                      Diverse Lynx\\n3.9     22     2   \n",
       "2                            Kforce\\n4.1     19     3   \n",
       "3           Lorven Technologies Inc\\n4.0     19     4   \n",
       "4                       Robert Half\\n3.5     14     5   \n",
       "\n",
       "                             value  count  rank                       value  \\\n",
       "0                  Perficient\\n3.6      6    21  Kforce Technology Staffing   \n",
       "1        Infotree Service Inc\\n3.7      6    22                         NaN   \n",
       "2  University of Pennsylvania\\n4.3      5    23                         NaN   \n",
       "3                         SGA Inc.      5    24                         NaN   \n",
       "4    Two95 International Inc.\\n4.0      5    25                         NaN   \n",
       "\n",
       "   count  rank  \n",
       "0    5.0  41.0  \n",
       "1    NaN   NaN  \n",
       "2    NaN   NaN  \n",
       "3    NaN   NaN  \n",
       "4    NaN   NaN  "
      ]
     },
     "execution_count": 37,
     "metadata": {},
     "output_type": "execute_result"
    }
   ],
   "source": [
    "res = pivot_vs(df, 'Company Name', min_cnt=5)\n",
    "res.head()"
   ]
  },
  {
   "cell_type": "code",
   "execution_count": 38,
   "metadata": {
    "execution": {
     "iopub.execute_input": "2020-07-28T11:46:43.809448Z",
     "iopub.status.busy": "2020-07-28T11:46:43.808938Z",
     "iopub.status.idle": "2020-07-28T11:46:43.820021Z",
     "shell.execute_reply": "2020-07-28T11:46:43.819153Z",
     "shell.execute_reply.started": "2020-07-28T11:46:43.809385Z"
    }
   },
   "outputs": [],
   "source": [
    "assert_eq(res.loc[:, 'value'].notna().sum().sum(), 41)\n",
    "assert_eq(res.loc[:, 'value'].isna( ).sum().sum(), 19)"
   ]
  },
  {
   "cell_type": "code",
   "execution_count": 2,
   "metadata": {
    "execution": {
     "iopub.execute_input": "2020-07-28T11:02:21.739210Z",
     "iopub.status.busy": "2020-07-28T11:02:21.738463Z",
     "iopub.status.idle": "2020-07-28T11:02:21.753843Z",
     "shell.execute_reply": "2020-07-28T11:02:21.752538Z",
     "shell.execute_reply.started": "2020-07-28T11:02:21.739123Z"
    }
   },
   "outputs": [],
   "source": [
    "# export\n",
    "\n",
    "class display(object):\n",
    "    \"\"\"Display HTML representation of multiple objects\"\"\"\n",
    "    template = \"\"\"<div style=\"float: left; padding: 10px;\">\n",
    "    <p style='font-family:\"Courier New\", Courier, monospace'>{0}</p>{1}\n",
    "    </div>\"\"\"\n",
    "\n",
    "    def __init__(self, *args):\n",
    "        self.args = args\n",
    "\n",
    "    def _repr_html_(self):\n",
    "        return '\\n'.join(self.template.format(a, eval(a)._repr_html_())\n",
    "                     for a in self.args)\n",
    "\n",
    "    def __repr__(self):\n",
    "        return '\\n\\n'.join(a + '\\n' + repr(eval(a))\n",
    "                       for a in self.args)"
   ]
  },
  {
   "cell_type": "code",
   "execution_count": 7,
   "metadata": {
    "execution": {
     "iopub.execute_input": "2020-07-28T11:03:01.731626Z",
     "iopub.status.busy": "2020-07-28T11:03:01.730849Z",
     "iopub.status.idle": "2020-07-28T11:03:01.758305Z",
     "shell.execute_reply": "2020-07-28T11:03:01.757453Z",
     "shell.execute_reply.started": "2020-07-28T11:03:01.731532Z"
    }
   },
   "outputs": [
    {
     "data": {
      "text/html": [
       "<div>\n",
       "<style scoped>\n",
       "    .dataframe tbody tr th:only-of-type {\n",
       "        vertical-align: middle;\n",
       "    }\n",
       "\n",
       "    .dataframe tbody tr th {\n",
       "        vertical-align: top;\n",
       "    }\n",
       "\n",
       "    .dataframe thead th {\n",
       "        text-align: right;\n",
       "    }\n",
       "</style>\n",
       "<table border=\"1\" class=\"dataframe\">\n",
       "  <thead>\n",
       "    <tr style=\"text-align: right;\">\n",
       "      <th></th>\n",
       "      <th>a</th>\n",
       "      <th>b</th>\n",
       "    </tr>\n",
       "  </thead>\n",
       "  <tbody>\n",
       "    <tr>\n",
       "      <th>0</th>\n",
       "      <td>1</td>\n",
       "      <td>2</td>\n",
       "    </tr>\n",
       "  </tbody>\n",
       "</table>\n",
       "</div>"
      ],
      "text/plain": [
       "   a  b\n",
       "0  1  2"
      ]
     },
     "execution_count": 7,
     "metadata": {},
     "output_type": "execute_result"
    }
   ],
   "source": [
    "import pandas as pd\n",
    "df = pd.DataFrame({'a':1, 'b':2}, index=[0])\n",
    "df"
   ]
  },
  {
   "cell_type": "code",
   "execution_count": null,
   "metadata": {},
   "outputs": [],
   "source": []
  }
 ],
 "metadata": {
  "kernelspec": {
   "display_name": "Python (py3k)",
   "language": "python",
   "name": "py3k"
  },
  "language_info": {
   "codemirror_mode": {
    "name": "ipython",
    "version": 3
   },
   "file_extension": ".py",
   "mimetype": "text/x-python",
   "name": "python",
   "nbconvert_exporter": "python",
   "pygments_lexer": "ipython3",
   "version": "3.7.6"
  }
 },
 "nbformat": 4,
 "nbformat_minor": 4
}
